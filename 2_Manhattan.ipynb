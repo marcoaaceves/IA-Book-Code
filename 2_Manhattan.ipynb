{
 "cells": [
  {
   "cell_type": "code",
   "execution_count": 5,
   "metadata": {},
   "outputs": [
    {
     "ename": "IndentationError",
     "evalue": "unexpected indent (<ipython-input-5-bb1873f8d99a>, line 8)",
     "output_type": "error",
     "traceback": [
      "\u001b[0;36m  File \u001b[0;32m\"<ipython-input-5-bb1873f8d99a>\"\u001b[0;36m, line \u001b[0;32m8\u001b[0m\n\u001b[0;31m    p1, p2 = [625, 150], [1825, 900]\u001b[0m\n\u001b[0m    ^\u001b[0m\n\u001b[0;31mIndentationError\u001b[0m\u001b[0;31m:\u001b[0m unexpected indent\n"
     ]
    }
   ],
   "source": [
    "import matplotlib.image as mpimg\n",
    "import matplotlib.pyplot as plt\n",
    "\n",
    "# leemos la imagen\n",
    "mapa = mpimg.imread(r'Manhattan.png')\n",
    "# mostramos la imagen\n",
    "plt.imshow(mapa)"
   ]
  },
  {
   "cell_type": "code",
   "execution_count": 3,
   "metadata": {},
   "outputs": [
    {
     "data": {
      "text/plain": [
       "[<matplotlib.lines.Line2D at 0x1142d8850>]"
      ]
     },
     "execution_count": 3,
     "metadata": {},
     "output_type": "execute_result"
    },
    {
     "data": {
      "image/png": "[encoded data removed]",
      "text/plain": [
       "<Figure size 432x288 with 1 Axes>"
      ]
     },
     "metadata": {
      "needs_background": "light"
     },
     "output_type": "display_data"
    }
   ],
   "source": [
    "import matplotlib.image as mpimg\n",
    "import matplotlib.pyplot as plt\n",
    " \n",
    " # leemos la imagen\n",
    "mapa = mpimg.imread(r'Manhattan.png')\n",
    " # mostramos la imagen\n",
    "plt.imshow(mapa)\n",
    "p1, p2 = [625, 150], [1825, 900]\n",
    " # graficamos el punto de origen (p1)\n",
    "plt.plot(p1[0], p1[1], marker='o', color='k')\n",
    " # graficamos el punto de llegada (p2)\n",
    "plt.plot(p2[0], p2[1], marker='o', color='k')"
   ]
  },
  {
   "cell_type": "code",
   "execution_count": 4,
   "metadata": {},
   "outputs": [
    {
     "data": {
      "text/plain": [
       "[<matplotlib.lines.Line2D at 0x103a1a610>]"
      ]
     },
     "execution_count": 4,
     "metadata": {},
     "output_type": "execute_result"
    },
    {
     "data": {
      "image/png": "[encoded data removed]",
      "text/plain": [
       "<Figure size 432x288 with 1 Axes>"
      ]
     },
     "metadata": {
      "needs_background": "light"
     },
     "output_type": "display_data"
    }
   ],
   "source": [
    "import matplotlib.image as mpimg\n",
    "import matplotlib.pyplot as plt\n",
    "\n",
    "# leemos la imagen\n",
    "mapa = mpimg.imread(r'Manhattan.png')\n",
    "# mostramos la imagen\n",
    "plt.imshow(mapa)\n",
    "p1, p2 = [625, 150], [1825, 900]\n",
    "# dibujamos la distancia vertical\n",
    "plt.plot([p1[0], p2[0]], [p2[1], p2[1]], color='r')\n",
    "# dibujamos la distancia horizontal\n",
    "plt.plot([p1[0], p1[0]], [p1[1], p2[1]], color='r')\n",
    "# graficamos el punto de origen (p1)\n",
    "plt.plot(p1[0], p1[1], marker='o', color='k')\n",
    "# graficamos el punto de llegada (p2)\n",
    "plt.plot(p2[0], p2[1], marker='o', color='k')"
   ]
  },
  {
   "cell_type": "code",
   "execution_count": 10,
   "metadata": {},
   "outputs": [
    {
     "data": {
      "image/png": "[encoded data removed]",
      "text/plain": [
       "<Figure size 432x288 with 1 Axes>"
      ]
     },
     "metadata": {
      "needs_background": "light"
     },
     "output_type": "display_data"
    }
   ],
   "source": [
    "import matplotlib.image as mpimg\n",
    "import matplotlib.pyplot as plt\n",
    "\n",
    "p1, p2 = [3, 2], [9, 9]\n",
    "# escalamos las coordenadas en X\n",
    "x1, x2 = 200*p1[0] + 25, 200*p2[0] + 25\n",
    "# escalamos las coordenadas en Y\n",
    "y1, y2 = 125*p1[1] + 25, 125*p2[1] + 25\n",
    "# leemos la imagen\n",
    "mapa = mpimg.imread(r'Manhattan.png')\n",
    "# mostramos la imagen\n",
    "plt.imshow(mapa)\n",
    "# dibujamos la distancia vertical\n",
    "plt.plot([x1, x2], [y2, y2], color='r')\n",
    "# dibujamos la distancia horizontal\n",
    "plt.plot([x1, x1], [y1, y2], color='r')\n",
    "# graficamos el punto de origen (p1)\n",
    "plt.plot(x1, y1, marker='o', color='k')\n",
    "# graficamos el punto de llegada (p2)\n",
    "plt.plot(x2, y2, marker='o', color='k')\n",
    "# escalamos el eje X\n",
    "plt.xticks([200 * x + 25 for x in range(11)],\n",
    "    ['0', '1', '2', '3', '4', '5', '6', '7', '8', '9', '10'])\n",
    "# escalamos el eje Y\n",
    "plt.yticks([125 * y + 25 for y in range(11)],\n",
    "    ['0', '1', '2', '3', '4', '5', '6', '7', '8', '9', '10'])\n",
    "# invertimos el eje Y\n",
    "plt.gca().invert_yaxis()"
   ]
  },
  {
   "cell_type": "code",
   "execution_count": 11,
   "metadata": {},
   "outputs": [],
   "source": [
    "def dist_manhattan(p1, p2):\n",
    "    \n",
    "    distancia = 0\n",
    "    for i in range(len(p1)):\n",
    "        distancia += abs(p1[i]-p2[i])\n",
    "    return distancia"
   ]
  },
  {
   "cell_type": "code",
   "execution_count": 12,
   "metadata": {},
   "outputs": [
    {
     "data": {
      "text/plain": [
       "Text(1.0, 1.0, 'Distancia: 13')"
      ]
     },
     "execution_count": 12,
     "metadata": {},
     "output_type": "execute_result"
    },
    {
     "data": {
      "image/png": "[encoded data removed]",
      "text/plain": [
       "<Figure size 432x288 with 1 Axes>"
      ]
     },
     "metadata": {
      "needs_background": "light"
     },
     "output_type": "display_data"
    }
   ],
   "source": [
    "# llamamos la funcion y la convertimos en string\n",
    "dist = str(dist_manhattan(p1, p2))\n",
    "# titulo de la figura\n",
    "plt.title('Distancia Manhattan\\n')\n",
    "# ponemos el valor de la distancia como titulo\n",
    "plt.title('Distancia: ' + dist, loc='right')"
   ]
  },
  {
   "cell_type": "code",
   "execution_count": null,
   "metadata": {},
   "outputs": [],
   "source": []
  }
 ],
 "metadata": {
  "kernelspec": {
   "display_name": "Python 3",
   "language": "python",
   "name": "python3"
  },
  "language_info": {
   "codemirror_mode": {
    "name": "ipython",
    "version": 3
   },
   "file_extension": ".py",
   "mimetype": "text/x-python",
   "name": "python",
   "nbconvert_exporter": "python",
   "pygments_lexer": "ipython3",
   "version": "3.7.6"
  }
 },
 "nbformat": 4,
 "nbformat_minor": 4
}
