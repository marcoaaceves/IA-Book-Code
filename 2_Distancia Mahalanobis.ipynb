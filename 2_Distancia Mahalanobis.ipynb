{
 "cells": [
  {
   "cell_type": "markdown",
   "metadata": {
    "id": "0fWXX_ymuYUm"
   },
   "source": [
    "#¿Qué es la distancia de Mahalanobis?\n",
    "### La distancia de Mahalanobis es una medida estadística que indica qué tan lejos está un punto de un conjunto de datos con respecto a la media, teniendo en cuenta la correlación entre las variables.\n",
    "\n",
    "A diferencia de la distancia Euclidiana, la distancia de Mahalanobis:\n",
    "\n",
    "✅ Considera la correlación entre variables, es decir, no asume que son independientes.\n",
    "\n",
    "✅ Es escalable, lo que significa que no se ve afectada por las diferencias en la escala de las variables.\n",
    "\n",
    "✅ Se usa para detectar valores atípicos (outliers) en análisis de datos."
   ]
  },
  {
   "cell_type": "markdown",
   "metadata": {
    "id": "OTspV1wOtQ2L"
   },
   "source": [
    " ### En caso de que no se encontrará una base de datos aplicable o no fuese la esperada se crea un conjunto de datos sintético en caso de que no se pueda cargar una base de datos pública."
   ]
  },
  {
   "cell_type": "code",
   "execution_count": 1,
   "metadata": {
    "executionInfo": {
     "elapsed": 26,
     "status": "ok",
     "timestamp": 1740715643679,
     "user": {
      "displayName": "Juan Salvador Toledo Rios",
      "userId": "17980517406747951948"
     },
     "user_tz": 360
    },
    "id": "8uva5iZJshZZ"
   },
   "outputs": [],
   "source": [
    "import numpy as np\n",
    "import pandas as pd\n",
    "from scipy.spatial.distance import mahalanobis\n",
    "\n",
    "#Función para generar datos sintéticos si no hay un dataset público disponible\n",
    "def generar_datos_sinteticos():\n",
    "    np.random.seed(42)\n",
    "    media = [50, 30, 70]\n",
    "    covarianza = [[100, 20, 50], [20, 80, 30], [50, 30, 90]]\n",
    "    datos = np.random.multivariate_normal(media, covarianza, 200)\n",
    "    df = pd.DataFrame(datos, columns=[\"Variable_1\", \"Variable_2\", \"Variable_3\"])\n",
    "    df.to_csv(\"datos_sinteticos.csv\", index=False)\n",
    "    return df"
   ]
  },
  {
   "cell_type": "markdown",
   "metadata": {
    "id": "d-1gzpKotjko"
   },
   "source": [
    "## Cargar el DataFrame\n",
    "### Se hace la prueba de cargar la base de datos de Iris (se puede sustituir por cualquier base de datos aplicable), pero en caso de que no se pueda se genera la base de datos propia."
   ]
  },
  {
   "cell_type": "code",
   "execution_count": 2,
   "metadata": {
    "colab": {
     "base_uri": "https://localhost:8080/"
    },
    "executionInfo": {
     "elapsed": 193,
     "status": "ok",
     "timestamp": 1740715643871,
     "user": {
      "displayName": "Juan Salvador Toledo Rios",
      "userId": "17980517406747951948"
     },
     "user_tz": 360
    },
    "id": "pdov6jFStDQ1",
    "outputId": "0dca011d-326b-4096-add6-11ed14b7c04f"
   },
   "outputs": [
    {
     "name": "stdout",
     "output_type": "stream",
     "text": [
      "Base de datos pública cargada con éxito.\n"
     ]
    }
   ],
   "source": [
    "#Intentamos cargar una base de datos pública\n",
    "try:\n",
    "    url = \"https://raw.githubusercontent.com/mwaskom/seaborn-data/master/iris.csv\"\n",
    "    df = pd.read_csv(url)\n",
    "    print(\"Base de datos pública cargada con éxito.\")\n",
    "except Exception:\n",
    "    print(\"No se encontró una base de datos pública, generando datos sintéticos...\")\n",
    "    df = generar_datos_sinteticos()"
   ]
  },
  {
   "cell_type": "markdown",
   "metadata": {
    "id": "a-WQRPIbt0fB"
   },
   "source": [
    "## Inspección de la base de datos"
   ]
  },
  {
   "cell_type": "code",
   "execution_count": 3,
   "metadata": {
    "colab": {
     "base_uri": "https://localhost:8080/"
    },
    "executionInfo": {
     "elapsed": 9,
     "status": "ok",
     "timestamp": 1740715643877,
     "user": {
      "displayName": "Juan Salvador Toledo Rios",
      "userId": "17980517406747951948"
     },
     "user_tz": 360
    },
    "id": "c7A0jcuwtAJZ",
    "outputId": "968952e7-83ee-4d29-f37f-40cb98eaaa3f"
   },
   "outputs": [
    {
     "name": "stdout",
     "output_type": "stream",
     "text": [
      "Información del DataFrame:\n",
      "<class 'pandas.core.frame.DataFrame'>\n",
      "RangeIndex: 150 entries, 0 to 149\n",
      "Data columns (total 5 columns):\n",
      " #   Column        Non-Null Count  Dtype  \n",
      "---  ------        --------------  -----  \n",
      " 0   sepal_length  150 non-null    float64\n",
      " 1   sepal_width   150 non-null    float64\n",
      " 2   petal_length  150 non-null    float64\n",
      " 3   petal_width   150 non-null    float64\n",
      " 4   species       150 non-null    object \n",
      "dtypes: float64(4), object(1)\n",
      "memory usage: 6.0+ KB\n",
      "None\n",
      "\n",
      "Resumen estadístico:\n",
      "       sepal_length  sepal_width  petal_length  petal_width\n",
      "count    150.000000   150.000000    150.000000   150.000000\n",
      "mean       5.843333     3.057333      3.758000     1.199333\n",
      "std        0.828066     0.435866      1.765298     0.762238\n",
      "min        4.300000     2.000000      1.000000     0.100000\n",
      "25%        5.100000     2.800000      1.600000     0.300000\n",
      "50%        5.800000     3.000000      4.350000     1.300000\n",
      "75%        6.400000     3.300000      5.100000     1.800000\n",
      "max        7.900000     4.400000      6.900000     2.500000\n",
      "\n",
      "Valores nulos en cada columna:\n",
      "sepal_length    0\n",
      "sepal_width     0\n",
      "petal_length    0\n",
      "petal_width     0\n",
      "species         0\n",
      "dtype: int64\n"
     ]
    }
   ],
   "source": [
    "#Inspección de la base de datos\n",
    "print(\"Información del DataFrame:\")\n",
    "print(df.info())\n",
    "print(\"\\nResumen estadístico:\")\n",
    "print(df.describe())\n",
    "print(\"\\nValores nulos en cada columna:\")\n",
    "print(df.isnull().sum())"
   ]
  },
  {
   "cell_type": "markdown",
   "metadata": {
    "id": "iRXJQysVuBiB"
   },
   "source": [
    "## Manejo de valores faltantes\n",
    "### Se filtran solo las columnas numéricas para evitar errores con datos categóricos.\n",
    "### Se rellenan los valores faltantes con la media de cada columna."
   ]
  },
  {
   "cell_type": "code",
   "execution_count": 4,
   "metadata": {
    "executionInfo": {
     "elapsed": 23,
     "status": "ok",
     "timestamp": 1740715643900,
     "user": {
      "displayName": "Juan Salvador Toledo Rios",
      "userId": "17980517406747951948"
     },
     "user_tz": 360
    },
    "id": "27gAobOFtGQ9"
   },
   "outputs": [],
   "source": [
    "#Filtrar solo las columnas numéricas para rellenar valores faltantes\n",
    "columnas_numericas = df.select_dtypes(include=[np.number]).columns\n",
    "\n",
    "df[columnas_numericas] = df[columnas_numericas].fillna(df[columnas_numericas].mean())\n",
    "\n",
    "#Convertimos los datos en una matriz numérica\n",
    "matriz_datos = df[columnas_numericas].values"
   ]
  },
  {
   "cell_type": "markdown",
   "metadata": {
    "id": "V7Xqqs8tuTnL"
   },
   "source": [
    "## Calculo de la distancia Mahalanobis del dataset"
   ]
  },
  {
   "cell_type": "code",
   "execution_count": 5,
   "metadata": {
    "colab": {
     "base_uri": "https://localhost:8080/"
    },
    "executionInfo": {
     "elapsed": 17,
     "status": "ok",
     "timestamp": 1740715643920,
     "user": {
      "displayName": "Juan Salvador Toledo Rios",
      "userId": "17980517406747951948"
     },
     "user_tz": 360
    },
    "id": "cvhn24RTuJCz",
    "outputId": "5747b322-c6b3-4a49-cb89-225d352688b6"
   },
   "outputs": [
    {
     "name": "stdout",
     "output_type": "stream",
     "text": [
      "   sepal_length  sepal_width  petal_length  petal_width species  \\\n",
      "0           5.1          3.5           1.4          0.2  setosa   \n",
      "1           4.9          3.0           1.4          0.2  setosa   \n",
      "2           4.7          3.2           1.3          0.2  setosa   \n",
      "3           4.6          3.1           1.5          0.2  setosa   \n",
      "4           5.0          3.6           1.4          0.2  setosa   \n",
      "\n",
      "   Distancia_Mahalanobis  \n",
      "0               1.460982  \n",
      "1               1.687933  \n",
      "2               1.442685  \n",
      "3               1.566008  \n",
      "4               1.569125  \n"
     ]
    }
   ],
   "source": [
    "#Calculamos la media y la matriz de covarianza del conjunto de datos\n",
    "media = np.mean(matriz_datos, axis=0)\n",
    "matriz_cov = np.cov(matriz_datos, rowvar=False)\n",
    "\n",
    "#Invertimos la matriz de covarianza (para la distancia de Mahalanobis)\n",
    "inv_matriz_cov = np.linalg.inv(matriz_cov)\n",
    "\n",
    "#Calculamos la distancia de Mahalanobis para cada observación\n",
    "distancias = [mahalanobis(row, media, inv_matriz_cov) for row in matriz_datos]\n",
    "\n",
    "df[\"Distancia_Mahalanobis\"] = distancias\n",
    "print(df.head())\n",
    "\n",
    "#Guardamos los resultados en un archivo CSV\n",
    "df.to_csv(\"datos_con_mahalanobis.csv\", index=False)\n"
   ]
  },
  {
   "cell_type": "code",
   "execution_count": null,
   "metadata": {},
   "outputs": [],
   "source": []
  }
 ],
 "metadata": {
  "colab": {
   "authorship_tag": "ABX9TyOlcC/01OKNJ9zk8LjI+i3i",
   "provenance": []
  },
  "kernelspec": {
   "display_name": "anaconda-panel-2023.05-py310",
   "language": "python",
   "name": "conda-env-anaconda-panel-2023.05-py310-py"
  },
  "language_info": {
   "codemirror_mode": {
    "name": "ipython",
    "version": 3
   },
   "file_extension": ".py",
   "mimetype": "text/x-python",
   "name": "python",
   "nbconvert_exporter": "python",
   "pygments_lexer": "ipython3",
   "version": "3.11.5"
  }
 },
 "nbformat": 4,
 "nbformat_minor": 4
}
