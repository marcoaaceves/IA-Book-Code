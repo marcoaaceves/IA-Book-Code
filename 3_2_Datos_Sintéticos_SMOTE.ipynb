{
  "cells": [
    {
      "cell_type": "markdown",
      "metadata": {
        "id": "IiLXs93p-rJv"
      },
      "source": [
        "# Smote\n",
        "\n",
        "SMOTE es una técnica de sobremuestreo que genera ejemplos sintéticos de la clase minoritaria para balancear el conjunto de datos. En lugar de simplemente duplicar las instancias existentes de la clase minoritaria, SMOTE crea nuevas instancias sintéticas interpolando entre los ejemplos de la clase minoritaria."
      ]
    },
    {
      "cell_type": "markdown",
      "metadata": {
        "id": "PcPpcGUV8dML"
      },
      "source": [
        "## Cargar el Dataset Wine\n",
        "\n",
        "### Aquí se está fusionando las clases 1 y 2 en una sola clase (cambiando los valores de la clase 2 por 1), creando un dataset desbalanceado donde la clase 0 tendrá muchas más muestras que la clase 1. Esto es para simular un caso de clases desbalanceadas, un problema común en problemas de clasificación."
      ]
    },
    {
      "cell_type": "code",
      "execution_count": 6,
      "metadata": {
        "colab": {
          "base_uri": "https://localhost:8080/"
        },
        "id": "EM9j1ZSKyTvM",
        "outputId": "9daa550f-a485-4e5c-aa14-b9f3b4ca4ce2"
      },
      "outputs": [
        {
          "output_type": "stream",
          "name": "stdout",
          "text": [
            "Requirement already satisfied: imblearn in /usr/local/lib/python3.11/dist-packages (0.0)\n",
            "Requirement already satisfied: imbalanced-learn in /usr/local/lib/python3.11/dist-packages (from imblearn) (0.13.0)\n",
            "Requirement already satisfied: numpy<3,>=1.24.3 in /usr/local/lib/python3.11/dist-packages (from imbalanced-learn->imblearn) (2.0.2)\n",
            "Requirement already satisfied: scipy<2,>=1.10.1 in /usr/local/lib/python3.11/dist-packages (from imbalanced-learn->imblearn) (1.15.3)\n",
            "Requirement already satisfied: scikit-learn<2,>=1.3.2 in /usr/local/lib/python3.11/dist-packages (from imbalanced-learn->imblearn) (1.6.1)\n",
            "Requirement already satisfied: sklearn-compat<1,>=0.1 in /usr/local/lib/python3.11/dist-packages (from imbalanced-learn->imblearn) (0.1.3)\n",
            "Requirement already satisfied: joblib<2,>=1.1.1 in /usr/local/lib/python3.11/dist-packages (from imbalanced-learn->imblearn) (1.5.0)\n",
            "Requirement already satisfied: threadpoolctl<4,>=2.0.0 in /usr/local/lib/python3.11/dist-packages (from imbalanced-learn->imblearn) (3.6.0)\n"
          ]
        }
      ],
      "source": [
        "!pip install imblearn"
      ]
    },
    {
      "cell_type": "code",
      "execution_count": 7,
      "metadata": {
        "colab": {
          "base_uri": "https://localhost:8080/"
        },
        "id": "_EH4pBr6V9yo",
        "outputId": "22a60b38-069e-4b55-8964-006150a5ad0f"
      },
      "outputs": [
        {
          "output_type": "stream",
          "name": "stdout",
          "text": [
            "Distribución original: [ 59 119]\n"
          ]
        }
      ],
      "source": [
        "\n",
        "#! pip install imbalanced-learn\n",
        "#Cargar librerías\n",
        "import numpy as np\n",
        "import matplotlib.pyplot as plt\n",
        "#import imblearn\n",
        "from sklearn.datasets import load_wine\n",
        "from sklearn.model_selection import train_test_split\n",
        "from sklearn.ensemble import RandomForestClassifier\n",
        "from sklearn.metrics import classification_report, ConfusionMatrixDisplay\n",
        "from imblearn.over_sampling import SMOTE, ADASYN\n",
        "from imblearn.over_sampling import SMOTE\n",
        "from imblearn.over_sampling import RandomOverSampler\n",
        "\n",
        "# Cargar el dataset Wine\n",
        "wine = load_wine()\n",
        "X, y = wine.data, wine.target\n",
        "\n",
        "# Crear un dataset desbalanceado (fusionamos clases 1 y 2)\n",
        "y[y == 2] = 1  # Unimos las clases 1 y 2 en una sola\n",
        "print(f\"Distribución original: {np.bincount(y)}\")"
      ]
    },
    {
      "cell_type": "markdown",
      "metadata": {
        "id": "CXNCBA6t9LHm"
      },
      "source": [
        "## Entrenar el Modelo sin SMOTE:\n",
        "\n",
        "Divide el dataset en conjuntos de entrenamiento y prueba. El 30% de los datos se destina para pruebas.\n",
        "\n",
        "***stratify=y:*** Esto asegura que las clases estén distribuidas de manera proporcional en ambos conjuntos (entrenamiento y prueba).\n",
        "\n",
        "***random_state=42***: Establece una semilla para asegurar que los resultados sean reproducibles."
      ]
    },
    {
      "cell_type": "code",
      "execution_count": 8,
      "metadata": {
        "colab": {
          "base_uri": "https://localhost:8080/"
        },
        "id": "4JEos_7Y7hXE",
        "outputId": "3171e2c2-04a3-43d1-9fad-f346bebd7360"
      },
      "outputs": [
        {
          "output_type": "stream",
          "name": "stdout",
          "text": [
            "\n",
            "--- Antes de aplicar SMOTE ---\n",
            "              precision    recall  f1-score   support\n",
            "\n",
            "           0       0.94      0.94      0.94        18\n",
            "           1       0.97      0.97      0.97        36\n",
            "\n",
            "    accuracy                           0.96        54\n",
            "   macro avg       0.96      0.96      0.96        54\n",
            "weighted avg       0.96      0.96      0.96        54\n",
            "\n"
          ]
        }
      ],
      "source": [
        "# Dividir en entrenamiento y prueba\n",
        "X_train, X_test, y_train, y_test = train_test_split(X, y, test_size=0.3, stratify=y, random_state=42)\n",
        "\n",
        "# Entrenar modelo sin SMOTE\n",
        "clf = RandomForestClassifier(random_state=42)\n",
        "clf.fit(X_train, y_train)\n",
        "y_pred = clf.predict(X_test)\n",
        "\n",
        "print(\"\\n--- Antes de aplicar SMOTE ---\")\n",
        "print(classification_report(y_test, y_pred))"
      ]
    },
    {
      "cell_type": "markdown",
      "metadata": {
        "id": "as6pfFeK9YFf"
      },
      "source": [
        "## Aplicar SMOTE para Balancear las Clases\n",
        "\n",
        "Se crea un objeto SMOTE para balancear las clases.\n",
        "\n",
        "***fit_resample():*** Aplica la técnica de SMOTE al conjunto de entrenamiento, generando nuevas muestras sintéticas de la clase minoritaria para igualar el número de ejemplos en ambas clases.\n",
        "\n",
        "***np.bincount(y_train_smote):*** Muestra la distribución de clases en el conjunto de entrenamiento después de aplicar SMOTE. Ahora las clases deberían estar balanceadas."
      ]
    },
    {
      "cell_type": "code",
      "execution_count": 9,
      "metadata": {
        "colab": {
          "base_uri": "https://localhost:8080/"
        },
        "id": "zTZyMVpe7vXT",
        "outputId": "8a65724a-5553-4e05-c9be-9c9c1b7db856"
      },
      "outputs": [
        {
          "output_type": "stream",
          "name": "stdout",
          "text": [
            "\n",
            "Distribución después de SMOTE: [83 83]\n",
            "\n",
            "--- Después de aplicar SMOTE ---\n",
            "              precision    recall  f1-score   support\n",
            "\n",
            "           0       0.95      1.00      0.97        18\n",
            "           1       1.00      0.97      0.99        36\n",
            "\n",
            "    accuracy                           0.98        54\n",
            "   macro avg       0.97      0.99      0.98        54\n",
            "weighted avg       0.98      0.98      0.98        54\n",
            "\n"
          ]
        }
      ],
      "source": [
        "# Aplicar SMOTE para balancear\n",
        "smote = SMOTE(random_state=42)\n",
        "X_train_smote, y_train_smote = smote.fit_resample(X_train, y_train)\n",
        "print(f\"\\nDistribución después de SMOTE: {np.bincount(y_train_smote)}\")\n",
        "\n",
        "# Entrenar modelo con datos balanceados\n",
        "clf_smote = RandomForestClassifier(random_state=42)\n",
        "clf_smote.fit(X_train_smote, y_train_smote)\n",
        "y_pred_smote = clf_smote.predict(X_test)\n",
        "\n",
        "print(\"\\n--- Después de aplicar SMOTE ---\")\n",
        "print(classification_report(y_test, y_pred_smote))"
      ]
    },
    {
      "cell_type": "markdown",
      "metadata": {
        "id": "sNuOs5wy9lLb"
      },
      "source": [
        "## Visualización de los resultados"
      ]
    },
    {
      "cell_type": "code",
      "execution_count": 10,
      "metadata": {
        "colab": {
          "base_uri": "https://localhost:8080/",
          "height": 447
        },
        "id": "d4qQBx4g7w_5",
        "outputId": "9b735124-90dd-4ce1-df90-e8131c0adacd"
      },
      "outputs": [
        {
          "output_type": "display_data",
          "data": {
            "text/plain": [
              "<Figure size 1200x500 with 4 Axes>"
            ],
            "image/png": "[encoded data removed]"
          },
          "metadata": {}
        }
      ],
      "source": [
        "# Mostrar la matriz de confusión antes y después\n",
        "fig, axes = plt.subplots(1, 2, figsize=(12, 5))\n",
        "\n",
        "ConfusionMatrixDisplay.from_estimator(clf, X_test, y_test, ax=axes[0], cmap='Blues', values_format='d')\n",
        "axes[0].set_title(\"Matriz de Confusión (Sin SMOTE)\")\n",
        "\n",
        "ConfusionMatrixDisplay.from_estimator(clf_smote, X_test, y_test, ax=axes[1], cmap='Blues', values_format='d')\n",
        "axes[1].set_title(\"Matriz de Confusión (Con SMOTE)\")\n",
        "\n",
        "plt.show()"
      ]
    },
    {
      "cell_type": "markdown",
      "metadata": {
        "id": "Ikl_uC7G-y_t"
      },
      "source": [
        "# ADASYN\n",
        "\n",
        "ADASYN es una mejora sobre SMOTE que no solo genera ejemplos sintéticos, sino que lo hace de forma adaptativa. Es decir, ADASYN se centra en las instancias de la clase minoritaria que están más cerca de la frontera de decisión, donde el modelo tiene más dificultades para clasificar correctamente."
      ]
    },
    {
      "cell_type": "markdown",
      "metadata": {
        "id": "m10SXFtD9onu"
      },
      "source": [
        "## Cargar el Dataset Wine\n",
        "### Aquí se está fusionando las clases 1 y 2 en una sola clase (cambiando los valores de la clase 2 por 1), creando un dataset desbalanceado donde la clase 0 tendrá muchas más muestras que la clase 1. Esto es para simular un caso de clases desbalanceadas, un problema común en problemas de clasificación."
      ]
    },
    {
      "cell_type": "code",
      "execution_count": 11,
      "metadata": {
        "colab": {
          "base_uri": "https://localhost:8080/"
        },
        "id": "ux5BZOfDWooa",
        "outputId": "42b64160-6ca4-4e3a-b759-83b0d0826d6f"
      },
      "outputs": [
        {
          "output_type": "stream",
          "name": "stdout",
          "text": [
            "Distribución original: [ 59 119]\n"
          ]
        }
      ],
      "source": [
        "# Cargar el dataset Wine\n",
        "wine = load_wine()\n",
        "X, y = wine.data, wine.target\n",
        "\n",
        "# Crear un dataset desbalanceado (fusionamos clases 1 y 2)\n",
        "y[y == 2] = 1  # Unimos las clases 1 y 2 en una sola\n",
        "print(f\"Distribución original: {np.bincount(y)}\")"
      ]
    },
    {
      "cell_type": "markdown",
      "metadata": {
        "id": "Ko4lU4CM93ZZ"
      },
      "source": [
        "## Entrenar el Modelo sin ADASYN\n",
        "\n",
        "Divide el dataset en conjuntos de entrenamiento y prueba. El 30% de los datos se destina para pruebas.\n",
        "\n",
        "stratify=y: Esto asegura que las clases estén distribuidas de manera proporcional en ambos conjuntos (entrenamiento y prueba).\n",
        "\n",
        "random_state=42: Establece una semilla para asegurar que los resultados sean reproducibles."
      ]
    },
    {
      "cell_type": "code",
      "execution_count": 12,
      "metadata": {
        "colab": {
          "base_uri": "https://localhost:8080/"
        },
        "id": "cMWMn20c7zPs",
        "outputId": "2d11340a-7cde-4f23-ca4d-3f9425f09cf1"
      },
      "outputs": [
        {
          "output_type": "stream",
          "name": "stdout",
          "text": [
            "\n",
            "--- Antes de aplicar ADASYN ---\n",
            "              precision    recall  f1-score   support\n",
            "\n",
            "           0       0.94      0.94      0.94        18\n",
            "           1       0.97      0.97      0.97        36\n",
            "\n",
            "    accuracy                           0.96        54\n",
            "   macro avg       0.96      0.96      0.96        54\n",
            "weighted avg       0.96      0.96      0.96        54\n",
            "\n"
          ]
        }
      ],
      "source": [
        "# Dividir en entrenamiento y prueba\n",
        "X_train, X_test, y_train, y_test = train_test_split(X, y, test_size=0.3, stratify=y, random_state=42)\n",
        "\n",
        "# Entrenar modelo sin ADASYN\n",
        "clf = RandomForestClassifier(random_state=42)\n",
        "clf.fit(X_train, y_train)\n",
        "y_pred = clf.predict(X_test)\n",
        "\n",
        "print(\"\\n--- Antes de aplicar ADASYN ---\")\n",
        "print(classification_report(y_test, y_pred))"
      ]
    },
    {
      "cell_type": "markdown",
      "metadata": {
        "id": "R3qoJo_Z-A-v"
      },
      "source": [
        "## Aplicar ADASYN para Balancear las Clases\n",
        "\n",
        "Se crea un objeto ADASYN para balancear las clases.\n",
        "\n",
        "***fit_resample():*** Aplica la técnica de ADASYN  al conjunto de entrenamiento, generando nuevas muestras sintéticas de la clase minoritaria para igualar el número de ejemplos en ambas clases.\n",
        "\n",
        "***np.bincount(y_train_smote):*** Muestra la distribución de clases en el conjunto de entrenamiento después de aplicar ADASYN . Ahora las clases deberían estar balanceadas."
      ]
    },
    {
      "cell_type": "code",
      "execution_count": 13,
      "metadata": {
        "colab": {
          "base_uri": "https://localhost:8080/"
        },
        "id": "6hyMLKaX706n",
        "outputId": "2550f0e8-66e8-49d6-dafd-12584627aea3"
      },
      "outputs": [
        {
          "output_type": "stream",
          "name": "stdout",
          "text": [
            "\n",
            "Distribución después de ADASYN: [82 83]\n",
            "\n",
            "--- Después de aplicar ADASYN ---\n",
            "              precision    recall  f1-score   support\n",
            "\n",
            "           0       0.95      1.00      0.97        18\n",
            "           1       1.00      0.97      0.99        36\n",
            "\n",
            "    accuracy                           0.98        54\n",
            "   macro avg       0.97      0.99      0.98        54\n",
            "weighted avg       0.98      0.98      0.98        54\n",
            "\n"
          ]
        }
      ],
      "source": [
        "# Aplicar ADASYN para balancear\n",
        "adasyn = ADASYN(random_state=42)\n",
        "X_train_adasyn, y_train_adasyn = adasyn.fit_resample(X_train, y_train)\n",
        "print(f\"\\nDistribución después de ADASYN: {np.bincount(y_train_adasyn)}\")\n",
        "\n",
        "# Entrenar modelo con datos balanceados\n",
        "clf_adasyn = RandomForestClassifier(random_state=42)\n",
        "clf_adasyn.fit(X_train_adasyn, y_train_adasyn)\n",
        "y_pred_adasyn = clf_adasyn.predict(X_test)\n",
        "\n",
        "print(\"\\n--- Después de aplicar ADASYN ---\")\n",
        "print(classification_report(y_test, y_pred_adasyn))"
      ]
    },
    {
      "cell_type": "markdown",
      "metadata": {
        "id": "A9JtH37H-bTT"
      },
      "source": [
        "## Visualización de los resultados"
      ]
    },
    {
      "cell_type": "code",
      "execution_count": 14,
      "metadata": {
        "colab": {
          "base_uri": "https://localhost:8080/",
          "height": 447
        },
        "id": "-reMMdI972pR",
        "outputId": "c44adc30-e2e3-43f9-9109-65572715fbd0"
      },
      "outputs": [
        {
          "output_type": "display_data",
          "data": {
            "text/plain": [
              "<Figure size 1200x500 with 4 Axes>"
            ],
            "image/png": "[encoded data removed]"
          },
          "metadata": {}
        }
      ],
      "source": [
        "# Mostrar la matriz de confusión antes y después\n",
        "fig, axes = plt.subplots(1, 2, figsize=(12, 5))\n",
        "\n",
        "ConfusionMatrixDisplay.from_estimator(clf, X_test, y_test, ax=axes[0], cmap='Blues', values_format='d')\n",
        "axes[0].set_title(\"Matriz de Confusión (Sin ADASYN)\")\n",
        "\n",
        "ConfusionMatrixDisplay.from_estimator(clf_adasyn, X_test, y_test, ax=axes[1], cmap='Blues', values_format='d')\n",
        "axes[1].set_title(\"Matriz de Confusión (Con ADASYN)\")\n",
        "\n",
        "plt.show()"
      ]
    }
  ],
  "metadata": {
    "colab": {
      "provenance": []
    },
    "kernelspec": {
      "display_name": "Python 3 (ipykernel)",
      "language": "python",
      "name": "python3"
    },
    "language_info": {
      "codemirror_mode": {
        "name": "ipython",
        "version": 3
      },
      "file_extension": ".py",
      "mimetype": "text/x-python",
      "name": "python",
      "nbconvert_exporter": "python",
      "pygments_lexer": "ipython3",
      "version": "3.9.12"
    }
  },
  "nbformat": 4,
  "nbformat_minor": 0
}