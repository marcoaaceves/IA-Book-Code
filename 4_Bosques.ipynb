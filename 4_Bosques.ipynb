{
 "cells": [
  {
   "cell_type": "code",
   "execution_count": null,
   "id": "68c2dad7",
   "metadata": {},
   "outputs": [],
   "source": [
    "# Bosques Aleatorios\n",
    "#### 0.1.1 - 2025 - 01 - 01\n",
    "#### Dr. MArco Aceves \n",
    "#### rev en Jupyter Notebook\n",
    "#### Código como ejemplo como parte del libro:\n",
    "#### de 0 a 100 en IA\n",
    "#### 4_Bosques.ipynb"
   ]
  },
  {
   "cell_type": "markdown",
   "id": "ee2cfffd",
   "metadata": {},
   "source": [
    "Como ya hemos visto, los bosques aleatorios son un algoritmo utilizado para problemas de clasificación y regresión. Este algoritmo crea subconjuntos de datos aleatorios a partir del conjunto de datos original y con cada uno de esos subconjuntos crea un árbol cuyos nodos selecciona de manera aleatoria también."
   ]
  },
  {
   "cell_type": "markdown",
   "id": "3c214d43",
   "metadata": {},
   "source": [
    "Para ejemplicar este algoritmo, haremos una clasificación de los pasajeros del Titanic, los clasificaremos en supervivientes y no supervivientes.\n",
    "\n",
    "Para la construcción del algoritmo usaremos la librería **scikit-learn (sklearn)**. Especificamente, la clase **RandomForestClassifier**. Esta clase trabaja únicamente con valores numéricos (*sklearn* también cuenta con una clase para realizar modelos de regresión que se llama *RandomForestRegressor*).\n",
    "\n",
    "Si no tenemos instalado **scikit-learn** podemos usar el siguiente comando:<br>\n",
    "pip install -U scikit-learn\n",
    "\n",
    "Ahora procedemos a realizar el código."
   ]
  },
  {
   "cell_type": "markdown",
   "id": "1e5860d9",
   "metadata": {},
   "source": [
    "Importamos las librerías."
   ]
  },
  {
   "cell_type": "code",
   "execution_count": 1,
   "id": "d4a34bfe",
   "metadata": {},
   "outputs": [],
   "source": [
    "import numpy as np\n",
    "import pandas as pd\n",
    "from sklearn.ensemble import RandomForestClassifier"
   ]
  },
  {
   "cell_type": "markdown",
   "id": "8d467186",
   "metadata": {},
   "source": [
    "Abrimos el archivo que contiene los datos del Titanic."
   ]
  },
  {
   "cell_type": "code",
   "execution_count": 2,
   "id": "d056cac9",
   "metadata": {
    "scrolled": true
   },
   "outputs": [
    {
     "data": {
      "text/html": [
       "<div>\n",
       "<style scoped>\n",
       "    .dataframe tbody tr th:only-of-type {\n",
       "        vertical-align: middle;\n",
       "    }\n",
       "\n",
       "    .dataframe tbody tr th {\n",
       "        vertical-align: top;\n",
       "    }\n",
       "\n",
       "    .dataframe thead th {\n",
       "        text-align: right;\n",
       "    }\n",
       "</style>\n",
       "<table border=\"1\" class=\"dataframe\">\n",
       "  <thead>\n",
       "    <tr style=\"text-align: right;\">\n",
       "      <th></th>\n",
       "      <th>pclass</th>\n",
       "      <th>survived</th>\n",
       "      <th>name</th>\n",
       "      <th>sex</th>\n",
       "      <th>age</th>\n",
       "      <th>sibsp</th>\n",
       "      <th>parch</th>\n",
       "      <th>ticket</th>\n",
       "      <th>fare</th>\n",
       "      <th>cabin</th>\n",
       "      <th>embarked</th>\n",
       "      <th>boat</th>\n",
       "      <th>body</th>\n",
       "      <th>home.dest</th>\n",
       "    </tr>\n",
       "  </thead>\n",
       "  <tbody>\n",
       "    <tr>\n",
       "      <th>0</th>\n",
       "      <td>1</td>\n",
       "      <td>1</td>\n",
       "      <td>Allen, Miss. Elisabeth Walton</td>\n",
       "      <td>female</td>\n",
       "      <td>29.0000</td>\n",
       "      <td>0</td>\n",
       "      <td>0</td>\n",
       "      <td>24160</td>\n",
       "      <td>211.3375</td>\n",
       "      <td>B5</td>\n",
       "      <td>S</td>\n",
       "      <td>2</td>\n",
       "      <td>NaN</td>\n",
       "      <td>St Louis, MO</td>\n",
       "    </tr>\n",
       "    <tr>\n",
       "      <th>1</th>\n",
       "      <td>1</td>\n",
       "      <td>1</td>\n",
       "      <td>Allison, Master. Hudson Trevor</td>\n",
       "      <td>male</td>\n",
       "      <td>0.9167</td>\n",
       "      <td>1</td>\n",
       "      <td>2</td>\n",
       "      <td>113781</td>\n",
       "      <td>151.5500</td>\n",
       "      <td>C22 C26</td>\n",
       "      <td>S</td>\n",
       "      <td>11</td>\n",
       "      <td>NaN</td>\n",
       "      <td>Montreal, PQ / Chesterville, ON</td>\n",
       "    </tr>\n",
       "    <tr>\n",
       "      <th>2</th>\n",
       "      <td>1</td>\n",
       "      <td>0</td>\n",
       "      <td>Allison, Miss. Helen Loraine</td>\n",
       "      <td>female</td>\n",
       "      <td>2.0000</td>\n",
       "      <td>1</td>\n",
       "      <td>2</td>\n",
       "      <td>113781</td>\n",
       "      <td>151.5500</td>\n",
       "      <td>C22 C26</td>\n",
       "      <td>S</td>\n",
       "      <td>NaN</td>\n",
       "      <td>NaN</td>\n",
       "      <td>Montreal, PQ / Chesterville, ON</td>\n",
       "    </tr>\n",
       "    <tr>\n",
       "      <th>3</th>\n",
       "      <td>1</td>\n",
       "      <td>0</td>\n",
       "      <td>Allison, Mr. Hudson Joshua Creighton</td>\n",
       "      <td>male</td>\n",
       "      <td>30.0000</td>\n",
       "      <td>1</td>\n",
       "      <td>2</td>\n",
       "      <td>113781</td>\n",
       "      <td>151.5500</td>\n",
       "      <td>C22 C26</td>\n",
       "      <td>S</td>\n",
       "      <td>NaN</td>\n",
       "      <td>135.0</td>\n",
       "      <td>Montreal, PQ / Chesterville, ON</td>\n",
       "    </tr>\n",
       "    <tr>\n",
       "      <th>4</th>\n",
       "      <td>1</td>\n",
       "      <td>0</td>\n",
       "      <td>Allison, Mrs. Hudson J C (Bessie Waldo Daniels)</td>\n",
       "      <td>female</td>\n",
       "      <td>25.0000</td>\n",
       "      <td>1</td>\n",
       "      <td>2</td>\n",
       "      <td>113781</td>\n",
       "      <td>151.5500</td>\n",
       "      <td>C22 C26</td>\n",
       "      <td>S</td>\n",
       "      <td>NaN</td>\n",
       "      <td>NaN</td>\n",
       "      <td>Montreal, PQ / Chesterville, ON</td>\n",
       "    </tr>\n",
       "  </tbody>\n",
       "</table>\n",
       "</div>"
      ],
      "text/plain": [
       "   pclass  survived                                             name     sex  \\\n",
       "0       1         1                    Allen, Miss. Elisabeth Walton  female   \n",
       "1       1         1                   Allison, Master. Hudson Trevor    male   \n",
       "2       1         0                     Allison, Miss. Helen Loraine  female   \n",
       "3       1         0             Allison, Mr. Hudson Joshua Creighton    male   \n",
       "4       1         0  Allison, Mrs. Hudson J C (Bessie Waldo Daniels)  female   \n",
       "\n",
       "       age  sibsp  parch  ticket      fare    cabin embarked boat   body  \\\n",
       "0  29.0000      0      0   24160  211.3375       B5        S    2    NaN   \n",
       "1   0.9167      1      2  113781  151.5500  C22 C26        S   11    NaN   \n",
       "2   2.0000      1      2  113781  151.5500  C22 C26        S  NaN    NaN   \n",
       "3  30.0000      1      2  113781  151.5500  C22 C26        S  NaN  135.0   \n",
       "4  25.0000      1      2  113781  151.5500  C22 C26        S  NaN    NaN   \n",
       "\n",
       "                         home.dest  \n",
       "0                     St Louis, MO  \n",
       "1  Montreal, PQ / Chesterville, ON  \n",
       "2  Montreal, PQ / Chesterville, ON  \n",
       "3  Montreal, PQ / Chesterville, ON  \n",
       "4  Montreal, PQ / Chesterville, ON  "
      ]
     },
     "execution_count": 2,
     "metadata": {},
     "output_type": "execute_result"
    }
   ],
   "source": [
    "df= pd.read_csv(\"titanic.csv\")\n",
    "df.head()"
   ]
  },
  {
   "cell_type": "markdown",
   "id": "623e3198",
   "metadata": {},
   "source": [
    "Como podemos observar no todas las columnas son relevantes para nuestro propósito, por lo que vamos a seleccionar solo los atributos que nos interesan, los cuales son: *Survived, Pclass, Sex, Age, SibSp, Parch* y *Embarked*."
   ]
  },
  {
   "cell_type": "code",
   "execution_count": 5,
   "id": "7599e242",
   "metadata": {},
   "outputs": [
    {
     "data": {
      "text/html": [
       "<div>\n",
       "<style scoped>\n",
       "    .dataframe tbody tr th:only-of-type {\n",
       "        vertical-align: middle;\n",
       "    }\n",
       "\n",
       "    .dataframe tbody tr th {\n",
       "        vertical-align: top;\n",
       "    }\n",
       "\n",
       "    .dataframe thead th {\n",
       "        text-align: right;\n",
       "    }\n",
       "</style>\n",
       "<table border=\"1\" class=\"dataframe\">\n",
       "  <thead>\n",
       "    <tr style=\"text-align: right;\">\n",
       "      <th></th>\n",
       "      <th>survived</th>\n",
       "      <th>pclass</th>\n",
       "      <th>sex</th>\n",
       "      <th>age</th>\n",
       "      <th>sibsp</th>\n",
       "      <th>parch</th>\n",
       "      <th>embarked</th>\n",
       "    </tr>\n",
       "  </thead>\n",
       "  <tbody>\n",
       "    <tr>\n",
       "      <th>0</th>\n",
       "      <td>1</td>\n",
       "      <td>1</td>\n",
       "      <td>female</td>\n",
       "      <td>29.0000</td>\n",
       "      <td>0</td>\n",
       "      <td>0</td>\n",
       "      <td>S</td>\n",
       "    </tr>\n",
       "    <tr>\n",
       "      <th>1</th>\n",
       "      <td>1</td>\n",
       "      <td>1</td>\n",
       "      <td>male</td>\n",
       "      <td>0.9167</td>\n",
       "      <td>1</td>\n",
       "      <td>2</td>\n",
       "      <td>S</td>\n",
       "    </tr>\n",
       "    <tr>\n",
       "      <th>2</th>\n",
       "      <td>0</td>\n",
       "      <td>1</td>\n",
       "      <td>female</td>\n",
       "      <td>2.0000</td>\n",
       "      <td>1</td>\n",
       "      <td>2</td>\n",
       "      <td>S</td>\n",
       "    </tr>\n",
       "    <tr>\n",
       "      <th>3</th>\n",
       "      <td>0</td>\n",
       "      <td>1</td>\n",
       "      <td>male</td>\n",
       "      <td>30.0000</td>\n",
       "      <td>1</td>\n",
       "      <td>2</td>\n",
       "      <td>S</td>\n",
       "    </tr>\n",
       "    <tr>\n",
       "      <th>4</th>\n",
       "      <td>0</td>\n",
       "      <td>1</td>\n",
       "      <td>female</td>\n",
       "      <td>25.0000</td>\n",
       "      <td>1</td>\n",
       "      <td>2</td>\n",
       "      <td>S</td>\n",
       "    </tr>\n",
       "  </tbody>\n",
       "</table>\n",
       "</div>"
      ],
      "text/plain": [
       "   survived  pclass     sex      age  sibsp  parch embarked\n",
       "0         1       1  female  29.0000      0      0        S\n",
       "1         1       1    male   0.9167      1      2        S\n",
       "2         0       1  female   2.0000      1      2        S\n",
       "3         0       1    male  30.0000      1      2        S\n",
       "4         0       1  female  25.0000      1      2        S"
      ]
     },
     "execution_count": 5,
     "metadata": {},
     "output_type": "execute_result"
    }
   ],
   "source": [
    "df = df[[\"survived\", \"pclass\", \"sex\", \"age\", \"sibsp\", \"parch\", \"embarked\"]]\n",
    "df.head()"
   ]
  },
  {
   "cell_type": "markdown",
   "id": "13122904",
   "metadata": {},
   "source": [
    "Vemos que tenemos dos atributos no numéricos, por lo que debemos convertirlos para poder utilizar **RandomForestClassifier**. La conversión la podemos hacer con una función de **pandas** que se llama **get_dummies**, **get_dummies** nos devuelve columnas cualitativas convertidas en columnas numéricas con 0 y 1. Esta función recibe como parámetros: el *dataframe*, las columnas sobre las cuales se hará la conversión, a modo de lista, y vamos a mandar verdadero a la variable **drop_first** que es falsa por defecto. Si dejamos **drop_first** como falso tendríamos una columna por cada observación, por ejemplo en el caso de la columna **Sex**, tendríamos una columna llamada *Sex_male* y otra llamada *Sex_female*. En cambio al volver verdadero a **drop_first** vamos a tener una sola columna llamada *Sex_male* donde se usa 1 para hombre y 0 para mujer."
   ]
  },
  {
   "cell_type": "code",
   "execution_count": 6,
   "id": "3bc4c940",
   "metadata": {},
   "outputs": [
    {
     "data": {
      "text/html": [
       "<div>\n",
       "<style scoped>\n",
       "    .dataframe tbody tr th:only-of-type {\n",
       "        vertical-align: middle;\n",
       "    }\n",
       "\n",
       "    .dataframe tbody tr th {\n",
       "        vertical-align: top;\n",
       "    }\n",
       "\n",
       "    .dataframe thead th {\n",
       "        text-align: right;\n",
       "    }\n",
       "</style>\n",
       "<table border=\"1\" class=\"dataframe\">\n",
       "  <thead>\n",
       "    <tr style=\"text-align: right;\">\n",
       "      <th></th>\n",
       "      <th>survived</th>\n",
       "      <th>pclass</th>\n",
       "      <th>age</th>\n",
       "      <th>sibsp</th>\n",
       "      <th>parch</th>\n",
       "      <th>sex_male</th>\n",
       "      <th>embarked_Q</th>\n",
       "      <th>embarked_S</th>\n",
       "    </tr>\n",
       "  </thead>\n",
       "  <tbody>\n",
       "    <tr>\n",
       "      <th>0</th>\n",
       "      <td>1</td>\n",
       "      <td>1</td>\n",
       "      <td>29.0000</td>\n",
       "      <td>0</td>\n",
       "      <td>0</td>\n",
       "      <td>0</td>\n",
       "      <td>0</td>\n",
       "      <td>1</td>\n",
       "    </tr>\n",
       "    <tr>\n",
       "      <th>1</th>\n",
       "      <td>1</td>\n",
       "      <td>1</td>\n",
       "      <td>0.9167</td>\n",
       "      <td>1</td>\n",
       "      <td>2</td>\n",
       "      <td>1</td>\n",
       "      <td>0</td>\n",
       "      <td>1</td>\n",
       "    </tr>\n",
       "    <tr>\n",
       "      <th>2</th>\n",
       "      <td>0</td>\n",
       "      <td>1</td>\n",
       "      <td>2.0000</td>\n",
       "      <td>1</td>\n",
       "      <td>2</td>\n",
       "      <td>0</td>\n",
       "      <td>0</td>\n",
       "      <td>1</td>\n",
       "    </tr>\n",
       "    <tr>\n",
       "      <th>3</th>\n",
       "      <td>0</td>\n",
       "      <td>1</td>\n",
       "      <td>30.0000</td>\n",
       "      <td>1</td>\n",
       "      <td>2</td>\n",
       "      <td>1</td>\n",
       "      <td>0</td>\n",
       "      <td>1</td>\n",
       "    </tr>\n",
       "    <tr>\n",
       "      <th>4</th>\n",
       "      <td>0</td>\n",
       "      <td>1</td>\n",
       "      <td>25.0000</td>\n",
       "      <td>1</td>\n",
       "      <td>2</td>\n",
       "      <td>0</td>\n",
       "      <td>0</td>\n",
       "      <td>1</td>\n",
       "    </tr>\n",
       "  </tbody>\n",
       "</table>\n",
       "</div>"
      ],
      "text/plain": [
       "   survived  pclass      age  sibsp  parch  sex_male  embarked_Q  embarked_S\n",
       "0         1       1  29.0000      0      0         0           0           1\n",
       "1         1       1   0.9167      1      2         1           0           1\n",
       "2         0       1   2.0000      1      2         0           0           1\n",
       "3         0       1  30.0000      1      2         1           0           1\n",
       "4         0       1  25.0000      1      2         0           0           1"
      ]
     },
     "execution_count": 6,
     "metadata": {},
     "output_type": "execute_result"
    }
   ],
   "source": [
    "df = pd.get_dummies(df, columns=[\"sex\", \"embarked\"], drop_first=True)\n",
    "df.head()"
   ]
  },
  {
   "cell_type": "markdown",
   "id": "23cea4eb",
   "metadata": {},
   "source": [
    "Ya que todos nuestros columnas tienen valores numéricos, procedemos a verificar si existen valores nulos. Lo realizamos con la función **info** de **pandas**"
   ]
  },
  {
   "cell_type": "code",
   "execution_count": 7,
   "id": "c02d0409",
   "metadata": {
    "scrolled": true
   },
   "outputs": [
    {
     "name": "stdout",
     "output_type": "stream",
     "text": [
      "<class 'pandas.core.frame.DataFrame'>\n",
      "RangeIndex: 1309 entries, 0 to 1308\n",
      "Data columns (total 8 columns):\n",
      " #   Column      Non-Null Count  Dtype  \n",
      "---  ------      --------------  -----  \n",
      " 0   survived    1309 non-null   int64  \n",
      " 1   pclass      1309 non-null   int64  \n",
      " 2   age         1046 non-null   float64\n",
      " 3   sibsp       1309 non-null   int64  \n",
      " 4   parch       1309 non-null   int64  \n",
      " 5   sex_male    1309 non-null   uint8  \n",
      " 6   embarked_Q  1309 non-null   uint8  \n",
      " 7   embarked_S  1309 non-null   uint8  \n",
      "dtypes: float64(1), int64(4), uint8(3)\n",
      "memory usage: 55.1 KB\n"
     ]
    }
   ],
   "source": [
    "df.info()"
   ]
  },
  {
   "cell_type": "markdown",
   "id": "70126686",
   "metadata": {},
   "source": [
    "En este archivo, tenemos 177 valores nulos, los cuales eliminaremos por practicidad de este ejemplo. Eliminamos los valores nulos con **dropna**."
   ]
  },
  {
   "cell_type": "code",
   "execution_count": 8,
   "id": "6aeb9391",
   "metadata": {},
   "outputs": [
    {
     "name": "stdout",
     "output_type": "stream",
     "text": [
      "<class 'pandas.core.frame.DataFrame'>\n",
      "Int64Index: 1046 entries, 0 to 1308\n",
      "Data columns (total 8 columns):\n",
      " #   Column      Non-Null Count  Dtype  \n",
      "---  ------      --------------  -----  \n",
      " 0   survived    1046 non-null   int64  \n",
      " 1   pclass      1046 non-null   int64  \n",
      " 2   age         1046 non-null   float64\n",
      " 3   sibsp       1046 non-null   int64  \n",
      " 4   parch       1046 non-null   int64  \n",
      " 5   sex_male    1046 non-null   uint8  \n",
      " 6   embarked_Q  1046 non-null   uint8  \n",
      " 7   embarked_S  1046 non-null   uint8  \n",
      "dtypes: float64(1), int64(4), uint8(3)\n",
      "memory usage: 52.1 KB\n"
     ]
    }
   ],
   "source": [
    "df = df.dropna()\n",
    "df.info()"
   ]
  },
  {
   "cell_type": "markdown",
   "id": "63a8ac59",
   "metadata": {},
   "source": [
    "Ahora, ya terminamos de preparar nuestros datos y estamos listos para implementar el bosque aleatorio.\n",
    "\n",
    "Para la construcción de nuestro bosque, vamos a implementar la validación cruzada *k-fold* vista anteriormente, así que importamos nuestras funciones de la validación."
   ]
  },
  {
   "cell_type": "code",
   "execution_count": 9,
   "id": "5826974f",
   "metadata": {},
   "outputs": [],
   "source": [
    "def division(df, k):\n",
    "    datos = []\n",
    "    tamano = int(len(df)/k)\n",
    "    for i in range(k-1):\n",
    "        division = np.array(range(i*tamano, (i+1)*tamano))\n",
    "        datos.append(np.array(division))\n",
    "    datos.append(np.array(range((i+1)*tamano, len(df))))\n",
    "    return datos\n",
    "\n",
    "\n",
    "# se filtran los datos para tener entrenamiento y prueba\n",
    "def conjunto(df, datos, indice):\n",
    "    prueba = df.iloc[datos[indice]]\n",
    "    ind = np.array(range(len(df)))\n",
    "    ind_ent = np.delete(ind, datos[indice])\n",
    "    entrenamiento = df.iloc[ind_ent]\n",
    "    return entrenamiento, prueba"
   ]
  },
  {
   "cell_type": "markdown",
   "id": "55393d8d",
   "metadata": {},
   "source": [
    "Creamos una función en donde ejecutaremos la validación *k-fold* e iremos creando un bosque por cada subconjunto que tengamos, esta función, **crear_bosque**, recibe como parámetros: un *dataframe* **df**, el número de particiones en los que se dividirán los datos **k**, el número de estimadores **estimadores**, el número mínimo de hojas **hojas**, la semilla para el estado aleatorio **semilla** y el nombre de la columna donde se encuentra la salida o variable dependiente **salida**.\n",
    "\n",
    "Dentro de la función, inicializaremos una variable precisión donde iremos sumando la precisión de cada bosque para poder obtener la media, una vez que termine con los diferentes bosques. \n",
    "\n",
    "Posteriormente, llamamos a división para dividir nuestros datos e implementamos un ciclo en el cual, cada iteración corresponderá a un bosque aleatorio. En el ciclo obtenemos los datos de entrenamiento y de prueba, separamos la salida de los demás atributos (requisito para poder usar la clase: RandomForestClassifier), para eliminar una columna de un dataframe usamos la función: drop. \n",
    "\n",
    "Esta función nos permite eliminar filas o columnas: axis=0 para indicar que vamos a eliminar filas y axis=1 para indicar que se trata de columnas. También, hay que mandarle el índice de las filas o el nombre de las columnas a eliminar en forma de lista. \n",
    "\n",
    "Ya que hemos separado la salida de los demás atributos, instanciamos: RandomForestClassifier mandándole como parámetros, el número de estimadores (número de árboles), la semilla para inicializar el estado aleatorio (solo en la construcción del primer árbol) y el número mínimo de hojas de los árboles. Entrenamos el modelo llamando: fit, mandándole los datos de entrenamiento (los atributos y la salida), y finalmente probamos el bosque con los datos de prueba, esto lo hacemos con la función score, la cual recibe como parámetros los datos de prueba y nos devuelve la precisión del árbol como un número entre 0 y 1. Recordemos que por cada subconjunto creado por la validación cruzada “k-fold”, estamos creando un bosque y vamos a retornar el promedio de la precisión de todos."
   ]
  },
  {
   "cell_type": "code",
   "execution_count": 10,
   "id": "a2ab195f",
   "metadata": {},
   "outputs": [],
   "source": [
    "def crear_bosque(df, k, estimadores, hojas, semilla, salida):\n",
    "    # inicializamos la variable de la precisión\n",
    "    precision = 0.0\n",
    "    # hacemos las divisiones del conjunto de datos\n",
    "    datos = division(df, k)\n",
    "    # por cada subconjunto se crea un bosque y luego promediamos la precisión\n",
    "    for i in range(k):\n",
    "        \n",
    "        # obtenemos los datos de entrenamiento y prueba\n",
    "        entrenamiento, prueba = conjunto(df, datos, i)\n",
    "        \n",
    "        # separamos la salida de los demas atributos\n",
    "        entrenamiento_atributos = entrenamiento.drop([salida], axis=1)\n",
    "        entrenamiento_salida = entrenamiento[salida]\n",
    "        prueba_atributos = prueba.drop([salida], axis=1)\n",
    "        prueba_salida = prueba[salida]\n",
    "        \n",
    "        # damos los hiperparámetros del bosque\n",
    "        \n",
    "        # establecemos la semilla en la primera iteración\n",
    "        if i == 0:\n",
    "            bosque = RandomForestClassifier(n_estimators=estimadores, random_state=semilla, min_samples_leaf=hojas)\n",
    "        else:\n",
    "            bosque = RandomForestClassifier(n_estimators=estimadores, min_samples_leaf=hojas)\n",
    "        # entrenamos el bosque\n",
    "        bosque.fit(entrenamiento_atributos, entrenamiento_salida)\n",
    "        # probamos el bosque y sumamos la precision obtenida\n",
    "        precision += bosque.score(prueba_atributos, prueba_salida)\n",
    "    # retornamos el promedio de la precisión obtenida\n",
    "    return round(precision/k, 3)\n",
    "        "
   ]
  },
  {
   "cell_type": "markdown",
   "id": "face3c9d",
   "metadata": {},
   "source": [
    "Ahora, vamos a probar nuestro código y crear bosques con distinto número de árboles, mientras los demás parámetros los mantenemos igual (k, estimadores, semilla, número de hojas, y la salida que se desee)."
   ]
  },
  {
   "cell_type": "markdown",
   "id": "c3f90a8a",
   "metadata": {},
   "source": [
    "Un árbol"
   ]
  },
  {
   "cell_type": "code",
   "execution_count": 11,
   "id": "c2127ee0",
   "metadata": {},
   "outputs": [
    {
     "data": {
      "text/plain": [
       "0.76"
      ]
     },
     "execution_count": 11,
     "metadata": {},
     "output_type": "execute_result"
    }
   ],
   "source": [
    "crear_bosque(df, 5, 1, 8, 1, \"survived\")"
   ]
  },
  {
   "cell_type": "markdown",
   "id": "336fd6dc",
   "metadata": {},
   "source": [
    "Cinco árboles"
   ]
  },
  {
   "cell_type": "code",
   "execution_count": 12,
   "id": "f4a25f74",
   "metadata": {},
   "outputs": [
    {
     "data": {
      "text/plain": [
       "0.793"
      ]
     },
     "execution_count": 12,
     "metadata": {},
     "output_type": "execute_result"
    }
   ],
   "source": [
    "crear_bosque(df, 5, 5, 8, 1, \"survived\")"
   ]
  },
  {
   "cell_type": "markdown",
   "id": "bce47df7",
   "metadata": {},
   "source": [
    "Diez árboles"
   ]
  },
  {
   "cell_type": "code",
   "execution_count": 14,
   "id": "a8d1802e",
   "metadata": {},
   "outputs": [
    {
     "data": {
      "text/plain": [
       "0.798"
      ]
     },
     "execution_count": 14,
     "metadata": {},
     "output_type": "execute_result"
    }
   ],
   "source": [
    "crear_bosque(df, 5, 10, 8, 1, \"survived\")"
   ]
  },
  {
   "cell_type": "markdown",
   "id": "67ed5a20",
   "metadata": {},
   "source": [
    "Como podemos observar, a medida que incrementamos el número de árboles, incrementa la precisión del bosque."
   ]
  }
 ],
 "metadata": {
  "kernelspec": {
   "display_name": "Python 3 (ipykernel)",
   "language": "python",
   "name": "python3"
  },
  "language_info": {
   "codemirror_mode": {
    "name": "ipython",
    "version": 3
   },
   "file_extension": ".py",
   "mimetype": "text/x-python",
   "name": "python",
   "nbconvert_exporter": "python",
   "pygments_lexer": "ipython3",
   "version": "3.9.12"
  }
 },
 "nbformat": 4,
 "nbformat_minor": 5
}
