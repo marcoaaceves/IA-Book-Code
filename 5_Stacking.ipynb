{
 "cells": [
  {
   "cell_type": "code",
   "execution_count": 2,
   "id": "d91aacfd",
   "metadata": {},
   "outputs": [],
   "source": [
    "#### 0.1.1 - 2025 - 06 - 01\n",
    "#### Dr. Marco Antonio Aceves\n",
    "#### rev en Jupyter Notebook\n",
    "#### Código como ejemplo como parte del libro:\n",
    "#### de 0 a 100 en Inteligencia Artificial\n",
    "#### 5_Q-Stacking"
   ]
  },
  {
   "cell_type": "code",
   "execution_count": 7,
   "id": "9bc5c8ce",
   "metadata": {},
   "outputs": [],
   "source": [
    "#Importar librerías\n",
    "import numpy as np\n",
    "from sklearn.datasets import make_classification\n",
    "from sklearn.model_selection import train_test_split\n",
    "from sklearn.linear_model import LogisticRegression\n",
    "from sklearn.tree import DecisionTreeClassifier\n",
    "from sklearn.neighbors import KNeighborsClassifier\n",
    "from sklearn.ensemble import StackingClassifier\n",
    "from sklearn.metrics import accuracy_score"
   ]
  },
  {
   "cell_type": "code",
   "execution_count": 8,
   "id": "94db6cea",
   "metadata": {},
   "outputs": [
    {
     "name": "stdout",
     "output_type": "stream",
     "text": [
      "Dimensiones de X_train: (700, 20)\n",
      "Dimensiones de X_test: (300, 20)\n",
      "Dimensiones de y_train: (700,)\n",
      "Dimensiones de y_test: (300,)\n",
      "\n"
     ]
    }
   ],
   "source": [
    "# --- 1. Generar datos sintéticos ---\n",
    "# Vamos a crear un conjunto de datos con 1000 muestras, 20 características (columnas)\n",
    "# de las cuales 10 son informativas, y 2 clases.\n",
    "X, y = make_classification(n_samples=1000, n_features=20, n_informative=10, n_redundant=10, random_state=42)\n",
    "\n",
    "# Dividir los datos en conjuntos de entrenamiento y prueba\n",
    "X_train, X_test, y_train, y_test = train_test_split(X, y, test_size=0.3, random_state=42)\n",
    "\n",
    "print(f\"Dimensiones de X_train: {X_train.shape}\")\n",
    "print(f\"Dimensiones de X_test: {X_test.shape}\")\n",
    "print(f\"Dimensiones de y_train: {y_train.shape}\")\n",
    "print(f\"Dimensiones de y_test: {y_test.shape}\\n\")\n",
    "\n"
   ]
  },
  {
   "cell_type": "code",
   "execution_count": 9,
   "id": "cf30db24",
   "metadata": {},
   "outputs": [],
   "source": [
    "# Definir los clasificadores base (los \"expertos\") ---\n",
    "# Los clasificadores base deben ser una lista de tuplas,\n",
    "# donde cada tupla es (nombre_del_estimador, estimador_instanciado).\n",
    "base_classifiers = [\n",
    "    ('logreg', LogisticRegression(random_state=42)),\n",
    "    ('dtree', DecisionTreeClassifier(random_state=42)),\n",
    "    ('knn', KNeighborsClassifier() ) # KNN no necesita random_state aquí\n",
    "]\n",
    "\n",
    "# Definir el meta-clasificador (el \"combinador inteligente\") ---\n",
    "# Este es el modelo que aprenderá a combinar las predicciones de los base_classifiers.\n",
    "meta_classifier = LogisticRegression(random_state=42)\n",
    "\n"
   ]
  },
  {
   "cell_type": "code",
   "execution_count": 10,
   "id": "d9424d80",
   "metadata": {},
   "outputs": [
    {
     "name": "stdout",
     "output_type": "stream",
     "text": [
      "Entrenando el modelo Stacking...\n",
      "Entrenamiento completado.\n",
      "\n",
      "Precisión del modelo Stacking: 0.9333\n",
      "\n",
      "Rendimiento de los clasificadores base individuales:\n",
      "  Precisión de logreg: 0.8567\n",
      "  Precisión de dtree: 0.8267\n",
      "  Precisión de knn: 0.9500\n"
     ]
    },
    {
     "name": "stderr",
     "output_type": "stream",
     "text": [
      "/Users/marcoaceves/opt/anaconda3/lib/python3.9/site-packages/sklearn/neighbors/_classification.py:228: FutureWarning: Unlike other reduction functions (e.g. `skew`, `kurtosis`), the default behavior of `mode` typically preserves the axis it acts along. In SciPy 1.11.0, this behavior will change: the default value of `keepdims` will become False, the `axis` over which the statistic is taken will be eliminated, and the value None will no longer be accepted. Set `keepdims` to True or False to avoid this warning.\n",
      "  mode, _ = stats.mode(_y[neigh_ind, k], axis=1)\n"
     ]
    }
   ],
   "source": [
    "# Crear el modelo Stacking ---\n",
    "# StackingClassifier es la clase de scikit-learn para implementar stacking.\n",
    "# estimators: La lista de clasificadores base.\n",
    "# final_estimator: El meta-clasificador.\n",
    "# cv: Número de folds para la validación cruzada interna (importante para evitar fugas de datos).\n",
    "stacked_model = StackingClassifier(\n",
    "    estimators=base_classifiers,\n",
    "    final_estimator=meta_classifier,\n",
    "    cv=5, # Usa 5-fold cross-validation para generar las predicciones para el meta-clasificador\n",
    "    passthrough=False # Si es True, pasa las características originales al meta-clasificador también.\n",
    "                      # Lo mantenemos en False para un ejemplo más puro de meta-aprendizaje de predicciones.\n",
    ")\n",
    "\n",
    "# Entrenar el modelo Stacking ---\n",
    "print(\"Entrenando el modelo Stacking...\")\n",
    "stacked_model.fit(X_train, y_train)\n",
    "print(\"Entrenamiento completado.\\n\")\n",
    "\n",
    "# Evaluar el rendimiento del modelo Stacking ---\n",
    "y_pred_stacked = stacked_model.predict(X_test)\n",
    "accuracy_stacked = accuracy_score(y_test, y_pred_stacked)\n",
    "print(f\"Precisión del modelo Stacking: {accuracy_stacked:.4f}\\n\")\n",
    "\n",
    "# (Opcional) Comparar con el rendimiento de los clasificadores base individuales ---\n",
    "print(\"Rendimiento de los clasificadores base individuales:\")\n",
    "for name, model in base_classifiers:\n",
    "    model.fit(X_train, y_train)\n",
    "    y_pred = model.predict(X_test)\n",
    "    accuracy = accuracy_score(y_test, y_pred)\n",
    "    print(f\"  Precisión de {name}: {accuracy:.4f}\")"
   ]
  },
  {
   "cell_type": "code",
   "execution_count": null,
   "id": "a47aa726",
   "metadata": {},
   "outputs": [],
   "source": []
  }
 ],
 "metadata": {
  "kernelspec": {
   "display_name": "Python 3 (ipykernel)",
   "language": "python",
   "name": "python3"
  },
  "language_info": {
   "codemirror_mode": {
    "name": "ipython",
    "version": 3
   },
   "file_extension": ".py",
   "mimetype": "text/x-python",
   "name": "python",
   "nbconvert_exporter": "python",
   "pygments_lexer": "ipython3",
   "version": "3.9.12"
  }
 },
 "nbformat": 4,
 "nbformat_minor": 5
}
