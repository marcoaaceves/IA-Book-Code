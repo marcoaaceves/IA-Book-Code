{
 "cells": [
  {
   "cell_type": "markdown",
   "metadata": {
    "id": "unxBhZ04xtgf"
   },
   "source": [
    "# Distancia Hamming\n",
    "\n",
    "### La distancia de Hamming es una métrica que se utiliza para medir la diferencia entre dos cadenas de igual longitud, comparando las posiciones en las que los símbolos correspondientes son diferentes. Es decir, cuenta cuántas posiciones de un conjunto de símbolos (como bits o caracteres) son diferentes entre dos cadenas de igual tamaño.\n",
    "\n",
    "### La distancia de Hamming se usa comúnmente en teoría de la información y códigos de corrección de errores, donde cada posición puede ser un bit (en el caso de cadenas binarias) o un carácter (en el caso de cadenas de texto).\n",
    "\n",
    "### La distancia de Hamming entre dos cadenas se calcula observando las posiciones en las que los bits son diferentes"
   ]
  },
  {
   "cell_type": "markdown",
   "metadata": {
    "id": "Pxm3n5AcwQSy"
   },
   "source": [
    "### Se hace la creación de los datos sintéticos, en los que se generan 200 datos binarios por 5 columnas"
   ]
  },
  {
   "cell_type": "code",
   "execution_count": 1,
   "metadata": {
    "executionInfo": {
     "elapsed": 3,
     "status": "ok",
     "timestamp": 1740715955364,
     "user": {
      "displayName": "Juan Salvador Toledo Rios",
      "userId": "17980517406747951948"
     },
     "user_tz": 360
    },
    "id": "oRSO2tqCvbek"
   },
   "outputs": [],
   "source": [
    "import numpy as np\n",
    "import pandas as pd\n",
    "from scipy.spatial.distance import hamming\n",
    "\n",
    "#Función para generar datos sintéticos si no hay un dataset público disponible\n",
    "def generar_datos_sinteticos():\n",
    "    np.random.seed(42)\n",
    "    datos = np.random.randint(0, 2, size=(200, 5))  #Generamos datos binarios (0 o 1)\n",
    "    df = pd.DataFrame(datos, columns=[\"Atributo_1\", \"Atributo_2\", \"Atributo_3\", \"Atributo_4\", \"Atributo_5\"])\n",
    "    df.to_csv(\"datos_sinteticos.csv\", index=False)\n",
    "    return df\n",
    "\n",
    "df = generar_datos_sinteticos()"
   ]
  },
  {
   "cell_type": "markdown",
   "metadata": {
    "id": "pREVAg0ew4Ph"
   },
   "source": [
    "## Inspección de la base de datos"
   ]
  },
  {
   "cell_type": "code",
   "execution_count": 2,
   "metadata": {
    "id": "RcNAo-vywQrx"
   },
   "outputs": [
    {
     "name": "stdout",
     "output_type": "stream",
     "text": [
      "Información del DataFrame:\n",
      "<class 'pandas.core.frame.DataFrame'>\n",
      "RangeIndex: 200 entries, 0 to 199\n",
      "Data columns (total 5 columns):\n",
      " #   Column      Non-Null Count  Dtype\n",
      "---  ------      --------------  -----\n",
      " 0   Atributo_1  200 non-null    int64\n",
      " 1   Atributo_2  200 non-null    int64\n",
      " 2   Atributo_3  200 non-null    int64\n",
      " 3   Atributo_4  200 non-null    int64\n",
      " 4   Atributo_5  200 non-null    int64\n",
      "dtypes: int64(5)\n",
      "memory usage: 7.9 KB\n",
      "None\n",
      "\n",
      "Resumen estadístico:\n",
      "       Atributo_1  Atributo_2  Atributo_3  Atributo_4  Atributo_5\n",
      "count  200.000000   200.00000  200.000000  200.000000  200.000000\n",
      "mean     0.470000     0.50500    0.510000    0.555000    0.510000\n",
      "std      0.500352     0.50123    0.501154    0.498213    0.501154\n",
      "min      0.000000     0.00000    0.000000    0.000000    0.000000\n",
      "25%      0.000000     0.00000    0.000000    0.000000    0.000000\n",
      "50%      0.000000     1.00000    1.000000    1.000000    1.000000\n",
      "75%      1.000000     1.00000    1.000000    1.000000    1.000000\n",
      "max      1.000000     1.00000    1.000000    1.000000    1.000000\n",
      "\n",
      "Valores nulos en cada columna:\n",
      "Atributo_1    0\n",
      "Atributo_2    0\n",
      "Atributo_3    0\n",
      "Atributo_4    0\n",
      "Atributo_5    0\n",
      "dtype: int64\n"
     ]
    }
   ],
   "source": [
    "# Inspección de la base de datos\n",
    "print(\"Información del DataFrame:\")\n",
    "print(df.info())\n",
    "print(\"\\nResumen estadístico:\")\n",
    "print(df.describe())\n",
    "print(\"\\nValores nulos en cada columna:\")\n",
    "print(df.isnull().sum())"
   ]
  },
  {
   "cell_type": "markdown",
   "metadata": {
    "id": "XZYGs0SSw685"
   },
   "source": [
    "## Manejo de valores faltantes\n",
    "### Se rellenan los valores faltantes con la media de cada columna.\n",
    "### Además en caso de que la base de datos tenga valores no binarios convierte este valor a binario con la media de la columna."
   ]
  },
  {
   "cell_type": "code",
   "execution_count": 3,
   "metadata": {
    "id": "F3kcviyjwS_r"
   },
   "outputs": [],
   "source": [
    "# Rellenar valores faltantes con el valor más frecuente en cada columna\n",
    "columnas_categoricas = df.select_dtypes(include=['object']).columns\n",
    "df[columnas_categoricas] = df[columnas_categoricas].apply(lambda x: x.fillna(x.mode()[0]))\n",
    "\n",
    "# Convertimos los datos en una matriz binaria (0 y 1) si es necesario\n",
    "columnas_numericas = df.select_dtypes(include=[np.number]).columns\n",
    "df[columnas_numericas] = df[columnas_numericas].fillna(df[columnas_numericas].median())"
   ]
  },
  {
   "cell_type": "markdown",
   "metadata": {
    "id": "YArdA_MCxPPO"
   },
   "source": [
    "## Calculo de la distancia Hamming del dataset"
   ]
  },
  {
   "cell_type": "code",
   "execution_count": 4,
   "metadata": {
    "id": "KmAn9-clwWn3"
   },
   "outputs": [
    {
     "name": "stdout",
     "output_type": "stream",
     "text": [
      "Distancia de Hamming entre la primera y segunda fila: 3.0\n"
     ]
    }
   ],
   "source": [
    "# Convertir valores categóricos en binarios si es necesario\n",
    "df = pd.get_dummies(df)\n",
    "\n",
    "# Convertimos los datos en una matriz numérica\n",
    "matriz_datos = df.values\n",
    "\n",
    "# Calculamos la distancia de Hamming entre las primeras dos filas como ejemplo\n",
    "distancia_hamming = hamming(matriz_datos[0], matriz_datos[1]) * len(matriz_datos[0])\n",
    "print(f\"Distancia de Hamming entre la primera y segunda fila: {distancia_hamming}\")\n",
    "\n",
    "# Guardamos los resultados en un archivo CSV\n",
    "df.to_csv(\"datos_con_hamming.csv\", index=False)"
   ]
  },
  {
   "cell_type": "code",
   "execution_count": null,
   "metadata": {},
   "outputs": [],
   "source": []
  }
 ],
 "metadata": {
  "colab": {
   "authorship_tag": "ABX9TyO30MwLBZYFIxwGTp23PiDt",
   "provenance": []
  },
  "kernelspec": {
   "display_name": "anaconda-panel-2023.05-py310",
   "language": "python",
   "name": "conda-env-anaconda-panel-2023.05-py310-py"
  },
  "language_info": {
   "codemirror_mode": {
    "name": "ipython",
    "version": 3
   },
   "file_extension": ".py",
   "mimetype": "text/x-python",
   "name": "python",
   "nbconvert_exporter": "python",
   "pygments_lexer": "ipython3",
   "version": "3.11.5"
  }
 },
 "nbformat": 4,
 "nbformat_minor": 4
}
